{
 "cells": [
  {
   "cell_type": "code",
   "execution_count": 1,
   "id": "4fe85903-362d-4120-8037-aef30f5a318f",
   "metadata": {},
   "outputs": [
    {
     "name": "stdin",
     "output_type": "stream",
     "text": [
      "Enter any number: 7\n"
     ]
    },
    {
     "name": "stdout",
     "output_type": "stream",
     "text": [
      "5040\n"
     ]
    }
   ],
   "source": [
    "#factorial\n",
    "n=int(input(\"Enter any number:\"))\n",
    "fact=1\n",
    "while n>0:\n",
    "    fact=fact*n\n",
    "    n=n-1\n",
    "print(fact)"
   ]
  },
  {
   "cell_type": "code",
   "execution_count": 12,
   "id": "50f15e58-0b23-41de-8517-a5f53504d579",
   "metadata": {},
   "outputs": [
    {
     "name": "stdin",
     "output_type": "stream",
     "text": [
      "Enter any number: 8\n",
      "Enter any number: 5\n",
      "Enter any number: 3\n"
     ]
    },
    {
     "name": "stdout",
     "output_type": "stream",
     "text": [
      "Minimum number is: 3\n"
     ]
    }
   ],
   "source": [
    "#minimum number\n",
    "a=int(input(\"Enter any number:\"))\n",
    "b=int(input(\"Enter any number:\"))\n",
    "c=int(input(\"Enter any number:\"))\n",
    "\n",
    "print(\"Minimum number is:\", min(a,b,c))"
   ]
  },
  {
   "cell_type": "code",
   "execution_count": 10,
   "id": "879b958b-3ccb-4c88-a349-17833fd64d71",
   "metadata": {},
   "outputs": [
    {
     "name": "stdin",
     "output_type": "stream",
     "text": [
      "Enter any number: 9\n",
      "Enter any number: 11\n",
      "Enter any number: 30\n"
     ]
    },
    {
     "name": "stdout",
     "output_type": "stream",
     "text": [
      "Maximum number is: 30\n"
     ]
    }
   ],
   "source": [
    "#maximum number\n",
    "a=int(input(\"Enter any number:\"))\n",
    "b=int(input(\"Enter any number:\"))\n",
    "c=int(input(\"Enter any number:\"))\n",
    "\n",
    "print(\"Maximum number is:\",max(a,b,c))"
   ]
  },
  {
   "cell_type": "code",
   "execution_count": 15,
   "id": "e92fd188-813f-4f8b-ae44-886866734117",
   "metadata": {},
   "outputs": [
    {
     "name": "stdin",
     "output_type": "stream",
     "text": [
      "Enter any number: 700\n"
     ]
    },
    {
     "name": "stdout",
     "output_type": "stream",
     "text": [
      "50% of the value is 350.0\n"
     ]
    }
   ],
   "source": [
    "#percentage\n",
    "a=int(input(\"Enter any number:\"))\n",
    "c=a*(50/100)\n",
    "print(\"50% of the value is\",c)"
   ]
  },
  {
   "cell_type": "code",
   "execution_count": 26,
   "id": "cd5d04c1-ab8a-4cdd-97f6-3650a509a17e",
   "metadata": {},
   "outputs": [
    {
     "name": "stdin",
     "output_type": "stream",
     "text": [
      "Enter the temperature in Celcius: 13\n"
     ]
    },
    {
     "name": "stdout",
     "output_type": "stream",
     "text": [
      "it's a cold day\n"
     ]
    }
   ],
   "source": [
    "#Temperature\n",
    "temp=int(input(\"Enter the temperature in Celcius:\"))\n",
    "if temp>=30:\n",
    "    print(\"it's a hot day\")\n",
    "elif temp>=20:\n",
    "    print(\"it's a warm day\")\n",
    "else:\n",
    "    print(\"it's a cold day\")\n",
    "    "
   ]
  },
  {
   "cell_type": "code",
   "execution_count": 31,
   "id": "0cc9036d-85aa-46dc-82a8-8e2b3df9cbf6",
   "metadata": {},
   "outputs": [
    {
     "name": "stdin",
     "output_type": "stream",
     "text": [
      "Enter the password: Aditi123\n"
     ]
    },
    {
     "name": "stdout",
     "output_type": "stream",
     "text": [
      "valid password\n"
     ]
    }
   ],
   "source": [
    "#password checker\n",
    "user_password=(input(\"Enter the password:\"))\n",
    "correct_password=\"Aditi123\"\n",
    "if(user_password==correct_password):\n",
    "    print(\"valid password\")\n",
    "else:\n",
    "    print(\"Invalid password\")\n"
   ]
  },
  {
   "cell_type": "code",
   "execution_count": 35,
   "id": "8264835a-e1ea-429f-99b4-1777872f5e03",
   "metadata": {
    "scrolled": true
   },
   "outputs": [
    {
     "name": "stdin",
     "output_type": "stream",
     "text": [
      "Enter the letter: i\n"
     ]
    },
    {
     "name": "stdout",
     "output_type": "stream",
     "text": [
      "The letter is vowel\n"
     ]
    }
   ],
   "source": [
    "#vowel or consonants\n",
    "letter=(input(\"Enter the letter:\"))\n",
    "if (letter in \"aieou\"):\n",
    "    print(\"The letter is vowel\")\n",
    "else:\n",
    "    print(\"The letter is consonant\")"
   ]
  },
  {
   "cell_type": "code",
   "execution_count": 46,
   "id": "12fc52e2-ffb3-499c-969a-319f4800a7af",
   "metadata": {},
   "outputs": [
    {
     "name": "stdin",
     "output_type": "stream",
     "text": [
      "Enter your Age: 66\n"
     ]
    },
    {
     "name": "stdout",
     "output_type": "stream",
     "text": [
      "you are a Senior citizen\n"
     ]
    }
   ],
   "source": [
    "#age group classifier\n",
    "age=int(input(\"Enter your Age:\"))\n",
    "if age<13:\n",
    "    print(\"you are a Child\")\n",
    "elif age<20:\n",
    "    print(\"you are a Teenager\")\n",
    "elif age<60:\n",
    "    print(\"you are an Adult\")\n",
    "else:\n",
    "    print(\"you are a Senior citizen\")\n"
   ]
  },
  {
   "cell_type": "code",
   "execution_count": 59,
   "id": "1574f74f-7c9a-47af-9d55-22d4aceb5b08",
   "metadata": {},
   "outputs": [
    {
     "name": "stdin",
     "output_type": "stream",
     "text": [
      "Enter a year: 1999\n"
     ]
    },
    {
     "name": "stdout",
     "output_type": "stream",
     "text": [
      "1999 is not a leap year\n"
     ]
    }
   ],
   "source": [
    "#leap year\n",
    "year=int(input(\"Enter a year:\"))\n",
    "if(year%4==0 and year%100 !=0)or(year % 400==0) :\n",
    "    print(year, \"is a leap year\")\n",
    "else:\n",
    "    print(year, \"is not a leap year\")"
   ]
  },
  {
   "cell_type": "code",
   "execution_count": 1,
   "id": "2b7fe631-593e-4028-b19e-07a8ba1255e3",
   "metadata": {},
   "outputs": [
    {
     "name": "stdin",
     "output_type": "stream",
     "text": [
      "Enter first number: 5\n",
      "Enter second number: 5\n",
      "Enter operations(+,-,*,/) : /\n"
     ]
    },
    {
     "name": "stdout",
     "output_type": "stream",
     "text": [
      "Result 1.0\n"
     ]
    }
   ],
   "source": [
    "a=float(input(\"Enter first number:\"))\n",
    "b=float(input(\"Enter second number:\"))\n",
    "op=(input(\"Enter operations(+,-,*,/) :\"))\n",
    "if op == '+':\n",
    "    print(\"Results:\",a+b)\n",
    "elif op == '-':\n",
    "    print(\"Result\",a-b)\n",
    "elif op == '*':\n",
    "    print(\"Result\",a*b)\n",
    "elif op == '/':\n",
    "    print(\"Result\",a/b)\n",
    "else:\n",
    "    print(invalid)\n",
    "    "
   ]
  },
  {
   "cell_type": "code",
   "execution_count": null,
   "id": "d1c95723-4d19-47fe-b450-48bd212758ca",
   "metadata": {},
   "outputs": [],
   "source": []
  },
  {
   "cell_type": "code",
   "execution_count": null,
   "id": "9b571200-bb95-4c9d-a3d0-d0fd72fe760b",
   "metadata": {},
   "outputs": [],
   "source": []
  }
 ],
 "metadata": {
  "kernelspec": {
   "display_name": "Python [conda env:base] *",
   "language": "python",
   "name": "conda-base-py"
  },
  "language_info": {
   "codemirror_mode": {
    "name": "ipython",
    "version": 3
   },
   "file_extension": ".py",
   "mimetype": "text/x-python",
   "name": "python",
   "nbconvert_exporter": "python",
   "pygments_lexer": "ipython3",
   "version": "3.13.5"
  }
 },
 "nbformat": 4,
 "nbformat_minor": 5
}
